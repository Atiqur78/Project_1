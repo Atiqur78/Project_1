{
 "cells": [
  {
   "cell_type": "markdown",
   "metadata": {},
   "source": [
    "## Task -1 : Clustering"
   ]
  },
  {
   "cell_type": "code",
   "execution_count": 1,
   "metadata": {},
   "outputs": [],
   "source": [
    "## Importing required package\n",
    "import pandas as pd\n",
    "from sklearn.preprocessing import StandardScaler\n",
    "from sklearn.cluster import KMeans\n",
    "import numpy as np\n",
    "import warnings\n",
    "warnings.filterwarnings('ignore')\n"
   ]
  },
  {
   "cell_type": "code",
   "execution_count": 2,
   "metadata": {},
   "outputs": [
    {
     "data": {
      "text/html": [
       "<div>\n",
       "<style scoped>\n",
       "    .dataframe tbody tr th:only-of-type {\n",
       "        vertical-align: middle;\n",
       "    }\n",
       "\n",
       "    .dataframe tbody tr th {\n",
       "        vertical-align: top;\n",
       "    }\n",
       "\n",
       "    .dataframe thead th {\n",
       "        text-align: right;\n",
       "    }\n",
       "</style>\n",
       "<table border=\"1\" class=\"dataframe\">\n",
       "  <thead>\n",
       "    <tr style=\"text-align: right;\">\n",
       "      <th></th>\n",
       "      <th>T1</th>\n",
       "      <th>T2</th>\n",
       "      <th>T3</th>\n",
       "      <th>T4</th>\n",
       "      <th>T5</th>\n",
       "      <th>T6</th>\n",
       "      <th>T7</th>\n",
       "      <th>T8</th>\n",
       "      <th>T9</th>\n",
       "      <th>T10</th>\n",
       "      <th>T11</th>\n",
       "      <th>T12</th>\n",
       "      <th>T13</th>\n",
       "      <th>T14</th>\n",
       "      <th>T15</th>\n",
       "      <th>T16</th>\n",
       "      <th>T17</th>\n",
       "      <th>T18</th>\n",
       "      <th>target</th>\n",
       "    </tr>\n",
       "  </thead>\n",
       "  <tbody>\n",
       "    <tr>\n",
       "      <th>0</th>\n",
       "      <td>-70</td>\n",
       "      <td>-61</td>\n",
       "      <td>-66</td>\n",
       "      <td>-53</td>\n",
       "      <td>-51</td>\n",
       "      <td>-63</td>\n",
       "      <td>-82</td>\n",
       "      <td>-57</td>\n",
       "      <td>-76</td>\n",
       "      <td>-78</td>\n",
       "      <td>-66</td>\n",
       "      <td>-66</td>\n",
       "      <td>-61</td>\n",
       "      <td>-59</td>\n",
       "      <td>-73</td>\n",
       "      <td>-75</td>\n",
       "      <td>-63</td>\n",
       "      <td>-77</td>\n",
       "      <td>B37</td>\n",
       "    </tr>\n",
       "    <tr>\n",
       "      <th>1</th>\n",
       "      <td>-77</td>\n",
       "      <td>-74</td>\n",
       "      <td>-71</td>\n",
       "      <td>-76</td>\n",
       "      <td>-65</td>\n",
       "      <td>-63</td>\n",
       "      <td>-66</td>\n",
       "      <td>-52</td>\n",
       "      <td>-55</td>\n",
       "      <td>-75</td>\n",
       "      <td>-72</td>\n",
       "      <td>-75</td>\n",
       "      <td>-74</td>\n",
       "      <td>-61</td>\n",
       "      <td>-64</td>\n",
       "      <td>-63</td>\n",
       "      <td>-53</td>\n",
       "      <td>-63</td>\n",
       "      <td>B61</td>\n",
       "    </tr>\n",
       "    <tr>\n",
       "      <th>2</th>\n",
       "      <td>-53</td>\n",
       "      <td>-38</td>\n",
       "      <td>-55</td>\n",
       "      <td>-66</td>\n",
       "      <td>-62</td>\n",
       "      <td>-62</td>\n",
       "      <td>-65</td>\n",
       "      <td>-70</td>\n",
       "      <td>-62</td>\n",
       "      <td>-52</td>\n",
       "      <td>-56</td>\n",
       "      <td>-53</td>\n",
       "      <td>-66</td>\n",
       "      <td>-68</td>\n",
       "      <td>-72</td>\n",
       "      <td>-60</td>\n",
       "      <td>-68</td>\n",
       "      <td>-77</td>\n",
       "      <td>A19</td>\n",
       "    </tr>\n",
       "    <tr>\n",
       "      <th>3</th>\n",
       "      <td>-72</td>\n",
       "      <td>-62</td>\n",
       "      <td>-59</td>\n",
       "      <td>-65</td>\n",
       "      <td>-65</td>\n",
       "      <td>-65</td>\n",
       "      <td>-78</td>\n",
       "      <td>-82</td>\n",
       "      <td>-83</td>\n",
       "      <td>-59</td>\n",
       "      <td>-84</td>\n",
       "      <td>-60</td>\n",
       "      <td>-64</td>\n",
       "      <td>-83</td>\n",
       "      <td>-69</td>\n",
       "      <td>-72</td>\n",
       "      <td>-95</td>\n",
       "      <td>-73</td>\n",
       "      <td>A22</td>\n",
       "    </tr>\n",
       "    <tr>\n",
       "      <th>4</th>\n",
       "      <td>-67</td>\n",
       "      <td>-69</td>\n",
       "      <td>-65</td>\n",
       "      <td>-63</td>\n",
       "      <td>-59</td>\n",
       "      <td>-53</td>\n",
       "      <td>-70</td>\n",
       "      <td>-72</td>\n",
       "      <td>-71</td>\n",
       "      <td>-60</td>\n",
       "      <td>-61</td>\n",
       "      <td>-57</td>\n",
       "      <td>-54</td>\n",
       "      <td>-76</td>\n",
       "      <td>-61</td>\n",
       "      <td>-66</td>\n",
       "      <td>-71</td>\n",
       "      <td>-80</td>\n",
       "      <td>A33</td>\n",
       "    </tr>\n",
       "  </tbody>\n",
       "</table>\n",
       "</div>"
      ],
      "text/plain": [
       "   T1  T2  T3  T4  T5  T6  T7  T8  T9  T10  T11  T12  T13  T14  T15  T16  T17  \\\n",
       "0 -70 -61 -66 -53 -51 -63 -82 -57 -76  -78  -66  -66  -61  -59  -73  -75  -63   \n",
       "1 -77 -74 -71 -76 -65 -63 -66 -52 -55  -75  -72  -75  -74  -61  -64  -63  -53   \n",
       "2 -53 -38 -55 -66 -62 -62 -65 -70 -62  -52  -56  -53  -66  -68  -72  -60  -68   \n",
       "3 -72 -62 -59 -65 -65 -65 -78 -82 -83  -59  -84  -60  -64  -83  -69  -72  -95   \n",
       "4 -67 -69 -65 -63 -59 -53 -70 -72 -71  -60  -61  -57  -54  -76  -61  -66  -71   \n",
       "\n",
       "   T18 target  \n",
       "0  -77    B37  \n",
       "1  -63    B61  \n",
       "2  -77    A19  \n",
       "3  -73    A22  \n",
       "4  -80    A33  "
      ]
     },
     "execution_count": 2,
     "metadata": {},
     "output_type": "execute_result"
    }
   ],
   "source": [
    "## load the dataset\n",
    "df = pd.read_excel('train.xlsx')\n",
    "\n",
    "## checking the first five row dataset\n",
    "df.head()"
   ]
  },
  {
   "cell_type": "code",
   "execution_count": 3,
   "metadata": {},
   "outputs": [
    {
     "name": "stdout",
     "output_type": "stream",
     "text": [
      "Shape of dataset: (36752, 19)\n",
      "Total row: 36752 and Total Column: 19\n"
     ]
    }
   ],
   "source": [
    "## checking the shape of the dataset\n",
    "print(f\"Shape of dataset: {df.shape}\")\n",
    "print(f'Total row: {df.shape[0]} and Total Column: {df.shape[1]}')"
   ]
  },
  {
   "cell_type": "code",
   "execution_count": 4,
   "metadata": {},
   "outputs": [
    {
     "data": {
      "text/plain": [
       "T1         int64\n",
       "T2         int64\n",
       "T3         int64\n",
       "T4         int64\n",
       "T5         int64\n",
       "T6         int64\n",
       "T7         int64\n",
       "T8         int64\n",
       "T9         int64\n",
       "T10        int64\n",
       "T11        int64\n",
       "T12        int64\n",
       "T13        int64\n",
       "T14        int64\n",
       "T15        int64\n",
       "T16        int64\n",
       "T17        int64\n",
       "T18        int64\n",
       "target    object\n",
       "dtype: object"
      ]
     },
     "execution_count": 4,
     "metadata": {},
     "output_type": "execute_result"
    }
   ],
   "source": [
    "## checking the data types of the dataset\n",
    "df.dtypes"
   ]
  },
  {
   "cell_type": "markdown",
   "metadata": {},
   "source": [
    " All column except target column is of integer data type"
   ]
  },
  {
   "cell_type": "code",
   "execution_count": 5,
   "metadata": {},
   "outputs": [
    {
     "data": {
      "text/plain": [
       "T1        0\n",
       "T2        0\n",
       "T3        0\n",
       "T4        0\n",
       "T5        0\n",
       "T6        0\n",
       "T7        0\n",
       "T8        0\n",
       "T9        0\n",
       "T10       0\n",
       "T11       0\n",
       "T12       0\n",
       "T13       0\n",
       "T14       0\n",
       "T15       0\n",
       "T16       0\n",
       "T17       0\n",
       "T18       0\n",
       "target    0\n",
       "dtype: int64"
      ]
     },
     "execution_count": 5,
     "metadata": {},
     "output_type": "execute_result"
    }
   ],
   "source": [
    "## checking the null value in the dataset\n",
    "df.isnull().sum()"
   ]
  },
  {
   "cell_type": "markdown",
   "metadata": {},
   "source": [
    "No null value is in the dataset"
   ]
  },
  {
   "cell_type": "code",
   "execution_count": 6,
   "metadata": {},
   "outputs": [
    {
     "data": {
      "text/html": [
       "<div>\n",
       "<style scoped>\n",
       "    .dataframe tbody tr th:only-of-type {\n",
       "        vertical-align: middle;\n",
       "    }\n",
       "\n",
       "    .dataframe tbody tr th {\n",
       "        vertical-align: top;\n",
       "    }\n",
       "\n",
       "    .dataframe thead th {\n",
       "        text-align: right;\n",
       "    }\n",
       "</style>\n",
       "<table border=\"1\" class=\"dataframe\">\n",
       "  <thead>\n",
       "    <tr style=\"text-align: right;\">\n",
       "      <th></th>\n",
       "      <th>T1</th>\n",
       "      <th>T2</th>\n",
       "      <th>T3</th>\n",
       "      <th>T4</th>\n",
       "      <th>T5</th>\n",
       "      <th>T6</th>\n",
       "      <th>T7</th>\n",
       "      <th>T8</th>\n",
       "      <th>T9</th>\n",
       "      <th>T10</th>\n",
       "      <th>T11</th>\n",
       "      <th>T12</th>\n",
       "      <th>T13</th>\n",
       "      <th>T14</th>\n",
       "      <th>T15</th>\n",
       "      <th>T16</th>\n",
       "      <th>T17</th>\n",
       "      <th>T18</th>\n",
       "    </tr>\n",
       "  </thead>\n",
       "  <tbody>\n",
       "    <tr>\n",
       "      <th>count</th>\n",
       "      <td>36752.000000</td>\n",
       "      <td>36752.000000</td>\n",
       "      <td>36752.000000</td>\n",
       "      <td>36752.000000</td>\n",
       "      <td>36752.000000</td>\n",
       "      <td>36752.000000</td>\n",
       "      <td>36752.000000</td>\n",
       "      <td>36752.000000</td>\n",
       "      <td>36752.000000</td>\n",
       "      <td>36752.000000</td>\n",
       "      <td>36752.000000</td>\n",
       "      <td>36752.000000</td>\n",
       "      <td>36752.000000</td>\n",
       "      <td>36752.000000</td>\n",
       "      <td>36752.000000</td>\n",
       "      <td>36752.000000</td>\n",
       "      <td>36752.000000</td>\n",
       "      <td>36752.000000</td>\n",
       "    </tr>\n",
       "    <tr>\n",
       "      <th>mean</th>\n",
       "      <td>-65.865449</td>\n",
       "      <td>-64.521931</td>\n",
       "      <td>-64.574472</td>\n",
       "      <td>-65.296474</td>\n",
       "      <td>-64.462152</td>\n",
       "      <td>-63.318731</td>\n",
       "      <td>-67.030202</td>\n",
       "      <td>-66.591260</td>\n",
       "      <td>-65.692479</td>\n",
       "      <td>-65.555181</td>\n",
       "      <td>-65.681922</td>\n",
       "      <td>-66.244204</td>\n",
       "      <td>-63.962614</td>\n",
       "      <td>-64.399080</td>\n",
       "      <td>-64.550011</td>\n",
       "      <td>-64.136782</td>\n",
       "      <td>-65.910726</td>\n",
       "      <td>-66.590417</td>\n",
       "    </tr>\n",
       "    <tr>\n",
       "      <th>std</th>\n",
       "      <td>8.737286</td>\n",
       "      <td>8.914559</td>\n",
       "      <td>8.154517</td>\n",
       "      <td>8.142803</td>\n",
       "      <td>8.068375</td>\n",
       "      <td>8.651501</td>\n",
       "      <td>9.257529</td>\n",
       "      <td>10.160193</td>\n",
       "      <td>10.598247</td>\n",
       "      <td>10.408147</td>\n",
       "      <td>9.453958</td>\n",
       "      <td>8.866239</td>\n",
       "      <td>8.254217</td>\n",
       "      <td>9.562839</td>\n",
       "      <td>9.207343</td>\n",
       "      <td>10.540542</td>\n",
       "      <td>10.071973</td>\n",
       "      <td>10.600992</td>\n",
       "    </tr>\n",
       "    <tr>\n",
       "      <th>min</th>\n",
       "      <td>-95.000000</td>\n",
       "      <td>-95.000000</td>\n",
       "      <td>-95.000000</td>\n",
       "      <td>-95.000000</td>\n",
       "      <td>-95.000000</td>\n",
       "      <td>-95.000000</td>\n",
       "      <td>-95.000000</td>\n",
       "      <td>-95.000000</td>\n",
       "      <td>-95.000000</td>\n",
       "      <td>-95.000000</td>\n",
       "      <td>-95.000000</td>\n",
       "      <td>-95.000000</td>\n",
       "      <td>-95.000000</td>\n",
       "      <td>-95.000000</td>\n",
       "      <td>-95.000000</td>\n",
       "      <td>-95.000000</td>\n",
       "      <td>-95.000000</td>\n",
       "      <td>-95.000000</td>\n",
       "    </tr>\n",
       "    <tr>\n",
       "      <th>25%</th>\n",
       "      <td>-72.000000</td>\n",
       "      <td>-70.000000</td>\n",
       "      <td>-70.000000</td>\n",
       "      <td>-70.000000</td>\n",
       "      <td>-69.000000</td>\n",
       "      <td>-69.000000</td>\n",
       "      <td>-74.000000</td>\n",
       "      <td>-75.000000</td>\n",
       "      <td>-73.000000</td>\n",
       "      <td>-73.000000</td>\n",
       "      <td>-71.000000</td>\n",
       "      <td>-72.000000</td>\n",
       "      <td>-69.000000</td>\n",
       "      <td>-70.000000</td>\n",
       "      <td>-70.000000</td>\n",
       "      <td>-71.000000</td>\n",
       "      <td>-72.000000</td>\n",
       "      <td>-74.000000</td>\n",
       "    </tr>\n",
       "    <tr>\n",
       "      <th>50%</th>\n",
       "      <td>-66.000000</td>\n",
       "      <td>-65.000000</td>\n",
       "      <td>-64.000000</td>\n",
       "      <td>-66.000000</td>\n",
       "      <td>-65.000000</td>\n",
       "      <td>-63.000000</td>\n",
       "      <td>-66.000000</td>\n",
       "      <td>-66.000000</td>\n",
       "      <td>-65.000000</td>\n",
       "      <td>-65.000000</td>\n",
       "      <td>-65.000000</td>\n",
       "      <td>-66.000000</td>\n",
       "      <td>-63.000000</td>\n",
       "      <td>-64.000000</td>\n",
       "      <td>-65.000000</td>\n",
       "      <td>-63.000000</td>\n",
       "      <td>-65.000000</td>\n",
       "      <td>-66.000000</td>\n",
       "    </tr>\n",
       "    <tr>\n",
       "      <th>75%</th>\n",
       "      <td>-61.000000</td>\n",
       "      <td>-59.000000</td>\n",
       "      <td>-59.000000</td>\n",
       "      <td>-61.000000</td>\n",
       "      <td>-59.000000</td>\n",
       "      <td>-57.000000</td>\n",
       "      <td>-60.000000</td>\n",
       "      <td>-59.000000</td>\n",
       "      <td>-58.000000</td>\n",
       "      <td>-58.000000</td>\n",
       "      <td>-59.000000</td>\n",
       "      <td>-61.000000</td>\n",
       "      <td>-58.000000</td>\n",
       "      <td>-58.000000</td>\n",
       "      <td>-58.000000</td>\n",
       "      <td>-57.000000</td>\n",
       "      <td>-59.000000</td>\n",
       "      <td>-59.000000</td>\n",
       "    </tr>\n",
       "    <tr>\n",
       "      <th>max</th>\n",
       "      <td>-41.000000</td>\n",
       "      <td>-37.000000</td>\n",
       "      <td>-41.000000</td>\n",
       "      <td>-39.000000</td>\n",
       "      <td>-36.000000</td>\n",
       "      <td>-39.000000</td>\n",
       "      <td>-45.000000</td>\n",
       "      <td>-39.000000</td>\n",
       "      <td>-39.000000</td>\n",
       "      <td>-37.000000</td>\n",
       "      <td>-40.000000</td>\n",
       "      <td>-43.000000</td>\n",
       "      <td>-43.000000</td>\n",
       "      <td>-39.000000</td>\n",
       "      <td>-38.000000</td>\n",
       "      <td>-40.000000</td>\n",
       "      <td>-43.000000</td>\n",
       "      <td>-39.000000</td>\n",
       "    </tr>\n",
       "  </tbody>\n",
       "</table>\n",
       "</div>"
      ],
      "text/plain": [
       "                 T1            T2            T3            T4            T5  \\\n",
       "count  36752.000000  36752.000000  36752.000000  36752.000000  36752.000000   \n",
       "mean     -65.865449    -64.521931    -64.574472    -65.296474    -64.462152   \n",
       "std        8.737286      8.914559      8.154517      8.142803      8.068375   \n",
       "min      -95.000000    -95.000000    -95.000000    -95.000000    -95.000000   \n",
       "25%      -72.000000    -70.000000    -70.000000    -70.000000    -69.000000   \n",
       "50%      -66.000000    -65.000000    -64.000000    -66.000000    -65.000000   \n",
       "75%      -61.000000    -59.000000    -59.000000    -61.000000    -59.000000   \n",
       "max      -41.000000    -37.000000    -41.000000    -39.000000    -36.000000   \n",
       "\n",
       "                 T6            T7            T8            T9           T10  \\\n",
       "count  36752.000000  36752.000000  36752.000000  36752.000000  36752.000000   \n",
       "mean     -63.318731    -67.030202    -66.591260    -65.692479    -65.555181   \n",
       "std        8.651501      9.257529     10.160193     10.598247     10.408147   \n",
       "min      -95.000000    -95.000000    -95.000000    -95.000000    -95.000000   \n",
       "25%      -69.000000    -74.000000    -75.000000    -73.000000    -73.000000   \n",
       "50%      -63.000000    -66.000000    -66.000000    -65.000000    -65.000000   \n",
       "75%      -57.000000    -60.000000    -59.000000    -58.000000    -58.000000   \n",
       "max      -39.000000    -45.000000    -39.000000    -39.000000    -37.000000   \n",
       "\n",
       "                T11           T12           T13           T14           T15  \\\n",
       "count  36752.000000  36752.000000  36752.000000  36752.000000  36752.000000   \n",
       "mean     -65.681922    -66.244204    -63.962614    -64.399080    -64.550011   \n",
       "std        9.453958      8.866239      8.254217      9.562839      9.207343   \n",
       "min      -95.000000    -95.000000    -95.000000    -95.000000    -95.000000   \n",
       "25%      -71.000000    -72.000000    -69.000000    -70.000000    -70.000000   \n",
       "50%      -65.000000    -66.000000    -63.000000    -64.000000    -65.000000   \n",
       "75%      -59.000000    -61.000000    -58.000000    -58.000000    -58.000000   \n",
       "max      -40.000000    -43.000000    -43.000000    -39.000000    -38.000000   \n",
       "\n",
       "                T16           T17           T18  \n",
       "count  36752.000000  36752.000000  36752.000000  \n",
       "mean     -64.136782    -65.910726    -66.590417  \n",
       "std       10.540542     10.071973     10.600992  \n",
       "min      -95.000000    -95.000000    -95.000000  \n",
       "25%      -71.000000    -72.000000    -74.000000  \n",
       "50%      -63.000000    -65.000000    -66.000000  \n",
       "75%      -57.000000    -59.000000    -59.000000  \n",
       "max      -40.000000    -43.000000    -39.000000  "
      ]
     },
     "execution_count": 6,
     "metadata": {},
     "output_type": "execute_result"
    }
   ],
   "source": [
    "## dataset description\n",
    "df.describe()"
   ]
  },
  {
   "cell_type": "markdown",
   "metadata": {},
   "source": [
    "## Preprocessing of the data"
   ]
  },
  {
   "cell_type": "code",
   "execution_count": 7,
   "metadata": {},
   "outputs": [],
   "source": [
    "## droping the target column because it is not required in clustering\n",
    "df = df.drop('target', axis =1)"
   ]
  },
  {
   "cell_type": "code",
   "execution_count": 8,
   "metadata": {},
   "outputs": [],
   "source": [
    "## Scaling the data\n",
    "scaler = StandardScaler()\n",
    "df_scaled =scaler.fit_transform(df)"
   ]
  },
  {
   "cell_type": "markdown",
   "metadata": {},
   "source": [
    "## Model Training"
   ]
  },
  {
   "cell_type": "code",
   "execution_count": 9,
   "metadata": {},
   "outputs": [
    {
     "data": {
      "image/png": "[encoded data removed]",
      "text/plain": [
       "<Figure size 800x550 with 2 Axes>"
      ]
     },
     "metadata": {},
     "output_type": "display_data"
    },
    {
     "data": {
      "text/plain": [
       "<Axes: title={'center': 'Distortion Score Elbow for KMeans Clustering'}, xlabel='k', ylabel='distortion score'>"
      ]
     },
     "execution_count": 9,
     "metadata": {},
     "output_type": "execute_result"
    }
   ],
   "source": [
    "## for getting the best value of k i.e no of cluster\n",
    "from yellowbrick.cluster import KElbowVisualizer\n",
    "km = KMeans(init=\"k-means++\",random_state=42)\n",
    "visualizer = KElbowVisualizer(km, k=(2,10))\n",
    " \n",
    "visualizer.fit(df_scaled)        \n",
    "visualizer.show()  "
   ]
  },
  {
   "cell_type": "code",
   "execution_count": 10,
   "metadata": {},
   "outputs": [
    {
     "data": {
      "text/plain": [
       "4"
      ]
     },
     "execution_count": 10,
     "metadata": {},
     "output_type": "execute_result"
    }
   ],
   "source": [
    "## Another way of checking th best value of k i.e no of cluster\n",
    "from kneed import KneeLocator\n",
    "wcss=[]\n",
    "for k in range(1,11):\n",
    "    kmeans = KMeans(n_clusters=k, init='k-means++')\n",
    "    kmeans.fit(df_scaled)\n",
    "    wcss.append(kmeans.inertia_)\n",
    "kl =KneeLocator(range(1,11), wcss, curve='convex', direction='decreasing')\n",
    "kl.elbow"
   ]
  },
  {
   "cell_type": "code",
   "execution_count": 11,
   "metadata": {},
   "outputs": [],
   "source": [
    "kmeans = KMeans(n_clusters=4, random_state=42,init=\"k-means++\")"
   ]
  },
  {
   "cell_type": "code",
   "execution_count": 12,
   "metadata": {},
   "outputs": [
    {
     "data": {
      "text/plain": [
       "array([0, 1, 0, ..., 2, 2, 3])"
      ]
     },
     "execution_count": 12,
     "metadata": {},
     "output_type": "execute_result"
    }
   ],
   "source": [
    "## Predicting the cluster\n",
    "kmeans.fit_predict(df_scaled)"
   ]
  },
  {
   "cell_type": "code",
   "execution_count": 13,
   "metadata": {},
   "outputs": [
    {
     "data": {
      "text/plain": [
       "array([0, 1, 0, ..., 2, 2, 3])"
      ]
     },
     "execution_count": 13,
     "metadata": {},
     "output_type": "execute_result"
    }
   ],
   "source": [
    "kmeans.labels_"
   ]
  },
  {
   "cell_type": "code",
   "execution_count": 14,
   "metadata": {},
   "outputs": [],
   "source": [
    "y_label =kmeans.labels_"
   ]
  },
  {
   "cell_type": "code",
   "execution_count": 15,
   "metadata": {},
   "outputs": [],
   "source": [
    "df['Cluster'] = y_label"
   ]
  },
  {
   "cell_type": "code",
   "execution_count": 16,
   "metadata": {},
   "outputs": [
    {
     "data": {
      "text/html": [
       "<div>\n",
       "<style scoped>\n",
       "    .dataframe tbody tr th:only-of-type {\n",
       "        vertical-align: middle;\n",
       "    }\n",
       "\n",
       "    .dataframe tbody tr th {\n",
       "        vertical-align: top;\n",
       "    }\n",
       "\n",
       "    .dataframe thead th {\n",
       "        text-align: right;\n",
       "    }\n",
       "</style>\n",
       "<table border=\"1\" class=\"dataframe\">\n",
       "  <thead>\n",
       "    <tr style=\"text-align: right;\">\n",
       "      <th></th>\n",
       "      <th>T1</th>\n",
       "      <th>T2</th>\n",
       "      <th>T3</th>\n",
       "      <th>T4</th>\n",
       "      <th>T5</th>\n",
       "      <th>T6</th>\n",
       "      <th>T7</th>\n",
       "      <th>T8</th>\n",
       "      <th>T9</th>\n",
       "      <th>T10</th>\n",
       "      <th>T11</th>\n",
       "      <th>T12</th>\n",
       "      <th>T13</th>\n",
       "      <th>T14</th>\n",
       "      <th>T15</th>\n",
       "      <th>T16</th>\n",
       "      <th>T17</th>\n",
       "      <th>T18</th>\n",
       "      <th>Cluster</th>\n",
       "    </tr>\n",
       "  </thead>\n",
       "  <tbody>\n",
       "    <tr>\n",
       "      <th>0</th>\n",
       "      <td>-70</td>\n",
       "      <td>-61</td>\n",
       "      <td>-66</td>\n",
       "      <td>-53</td>\n",
       "      <td>-51</td>\n",
       "      <td>-63</td>\n",
       "      <td>-82</td>\n",
       "      <td>-57</td>\n",
       "      <td>-76</td>\n",
       "      <td>-78</td>\n",
       "      <td>-66</td>\n",
       "      <td>-66</td>\n",
       "      <td>-61</td>\n",
       "      <td>-59</td>\n",
       "      <td>-73</td>\n",
       "      <td>-75</td>\n",
       "      <td>-63</td>\n",
       "      <td>-77</td>\n",
       "      <td>0</td>\n",
       "    </tr>\n",
       "    <tr>\n",
       "      <th>1</th>\n",
       "      <td>-77</td>\n",
       "      <td>-74</td>\n",
       "      <td>-71</td>\n",
       "      <td>-76</td>\n",
       "      <td>-65</td>\n",
       "      <td>-63</td>\n",
       "      <td>-66</td>\n",
       "      <td>-52</td>\n",
       "      <td>-55</td>\n",
       "      <td>-75</td>\n",
       "      <td>-72</td>\n",
       "      <td>-75</td>\n",
       "      <td>-74</td>\n",
       "      <td>-61</td>\n",
       "      <td>-64</td>\n",
       "      <td>-63</td>\n",
       "      <td>-53</td>\n",
       "      <td>-63</td>\n",
       "      <td>1</td>\n",
       "    </tr>\n",
       "    <tr>\n",
       "      <th>2</th>\n",
       "      <td>-53</td>\n",
       "      <td>-38</td>\n",
       "      <td>-55</td>\n",
       "      <td>-66</td>\n",
       "      <td>-62</td>\n",
       "      <td>-62</td>\n",
       "      <td>-65</td>\n",
       "      <td>-70</td>\n",
       "      <td>-62</td>\n",
       "      <td>-52</td>\n",
       "      <td>-56</td>\n",
       "      <td>-53</td>\n",
       "      <td>-66</td>\n",
       "      <td>-68</td>\n",
       "      <td>-72</td>\n",
       "      <td>-60</td>\n",
       "      <td>-68</td>\n",
       "      <td>-77</td>\n",
       "      <td>0</td>\n",
       "    </tr>\n",
       "    <tr>\n",
       "      <th>3</th>\n",
       "      <td>-72</td>\n",
       "      <td>-62</td>\n",
       "      <td>-59</td>\n",
       "      <td>-65</td>\n",
       "      <td>-65</td>\n",
       "      <td>-65</td>\n",
       "      <td>-78</td>\n",
       "      <td>-82</td>\n",
       "      <td>-83</td>\n",
       "      <td>-59</td>\n",
       "      <td>-84</td>\n",
       "      <td>-60</td>\n",
       "      <td>-64</td>\n",
       "      <td>-83</td>\n",
       "      <td>-69</td>\n",
       "      <td>-72</td>\n",
       "      <td>-95</td>\n",
       "      <td>-73</td>\n",
       "      <td>2</td>\n",
       "    </tr>\n",
       "    <tr>\n",
       "      <th>4</th>\n",
       "      <td>-67</td>\n",
       "      <td>-69</td>\n",
       "      <td>-65</td>\n",
       "      <td>-63</td>\n",
       "      <td>-59</td>\n",
       "      <td>-53</td>\n",
       "      <td>-70</td>\n",
       "      <td>-72</td>\n",
       "      <td>-71</td>\n",
       "      <td>-60</td>\n",
       "      <td>-61</td>\n",
       "      <td>-57</td>\n",
       "      <td>-54</td>\n",
       "      <td>-76</td>\n",
       "      <td>-61</td>\n",
       "      <td>-66</td>\n",
       "      <td>-71</td>\n",
       "      <td>-80</td>\n",
       "      <td>0</td>\n",
       "    </tr>\n",
       "  </tbody>\n",
       "</table>\n",
       "</div>"
      ],
      "text/plain": [
       "   T1  T2  T3  T4  T5  T6  T7  T8  T9  T10  T11  T12  T13  T14  T15  T16  T17  \\\n",
       "0 -70 -61 -66 -53 -51 -63 -82 -57 -76  -78  -66  -66  -61  -59  -73  -75  -63   \n",
       "1 -77 -74 -71 -76 -65 -63 -66 -52 -55  -75  -72  -75  -74  -61  -64  -63  -53   \n",
       "2 -53 -38 -55 -66 -62 -62 -65 -70 -62  -52  -56  -53  -66  -68  -72  -60  -68   \n",
       "3 -72 -62 -59 -65 -65 -65 -78 -82 -83  -59  -84  -60  -64  -83  -69  -72  -95   \n",
       "4 -67 -69 -65 -63 -59 -53 -70 -72 -71  -60  -61  -57  -54  -76  -61  -66  -71   \n",
       "\n",
       "   T18  Cluster  \n",
       "0  -77        0  \n",
       "1  -63        1  \n",
       "2  -77        0  \n",
       "3  -73        2  \n",
       "4  -80        0  "
      ]
     },
     "execution_count": 16,
     "metadata": {},
     "output_type": "execute_result"
    }
   ],
   "source": [
    "df.head()"
   ]
  },
  {
   "cell_type": "markdown",
   "metadata": {},
   "source": [
    "## creating the model file"
   ]
  },
  {
   "cell_type": "code",
   "execution_count": 17,
   "metadata": {},
   "outputs": [],
   "source": [
    "## Saving the model file\n",
    "import pickle as pkl\n",
    "\n",
    "with open('scaler.pkl','wb') as f:\n",
    "    pkl.dump(scaler, f)\n",
    "\n",
    "with open('kmeans_model.pkl', 'wb')as f:\n",
    "    pkl.dump(kmeans, f)"
   ]
  },
  {
   "cell_type": "markdown",
   "metadata": {},
   "source": [
    "## Prediction of the cluster for new data"
   ]
  },
  {
   "cell_type": "code",
   "execution_count": 18,
   "metadata": {},
   "outputs": [],
   "source": [
    "## loading the model file\n",
    "\n",
    "with open('scaler.pkl','rb') as f:\n",
    "    scaler_model = pkl.load(f)\n",
    "\n",
    "with open('kmeans_model.pkl', 'rb') as f:\n",
    "    kmean_model = pkl.load(f)"
   ]
  },
  {
   "cell_type": "code",
   "execution_count": 19,
   "metadata": {},
   "outputs": [],
   "source": [
    "## function for prediction of the cluster of new data\n",
    "def prediction(new_data, kmeans_model, scaler_model):\n",
    "    new_data = scaler_model.transform(new_data)\n",
    "    prediction = kmeans_model.predict(new_data)\n",
    "    explanations = []\n",
    "    for idx, data_point in enumerate(new_data):\n",
    "        cluster_idx = prediction[idx]\n",
    "        centroid = kmeans_model.cluster_centers_[cluster_idx]\n",
    "        distance = np.linalg.norm(data_point - centroid)\n",
    "        explanation = f\"The data point belongs to cluster {cluster_idx} because it is closest to the centroid with a distance of {distance:.2f}.\"\n",
    "        explanations.append((prediction[idx], explanation))\n",
    "    \n",
    "    return prediction, explanations"
   ]
  },
  {
   "cell_type": "code",
   "execution_count": 20,
   "metadata": {},
   "outputs": [
    {
     "data": {
      "text/plain": [
       "(array([3]),\n",
       " [(3,\n",
       "   'The data point belongs to cluster 3 because it is closest to the centroid with a distance of 50.74.')])"
      ]
     },
     "execution_count": 20,
     "metadata": {},
     "output_type": "execute_result"
    }
   ],
   "source": [
    "## loading the new data\n",
    "\n",
    "new_data = [50,10,14,78,96,54,12,36,45,36,47,52,63,47,45,63,17,25]\n",
    "data_point = np.array(new_data).reshape(1, -1)\n",
    "prediction(data_point, kmean_model, scaler_model)"
   ]
  },
  {
   "cell_type": "code",
   "execution_count": null,
   "metadata": {},
   "outputs": [],
   "source": []
  },
  {
   "cell_type": "code",
   "execution_count": null,
   "metadata": {},
   "outputs": [],
   "source": []
  },
  {
   "cell_type": "code",
   "execution_count": null,
   "metadata": {},
   "outputs": [],
   "source": []
  }
 ],
 "metadata": {
  "kernelspec": {
   "display_name": "Python 3",
   "language": "python",
   "name": "python3"
  },
  "language_info": {
   "codemirror_mode": {
    "name": "ipython",
    "version": 3
   },
   "file_extension": ".py",
   "mimetype": "text/x-python",
   "name": "python",
   "nbconvert_exporter": "python",
   "pygments_lexer": "ipython3",
   "version": "3.12.3"
  }
 },
 "nbformat": 4,
 "nbformat_minor": 2
}
