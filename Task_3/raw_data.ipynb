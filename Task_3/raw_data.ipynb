{
 "cells": [
  {
   "cell_type": "code",
   "execution_count": 1,
   "metadata": {},
   "outputs": [],
   "source": [
    "## importing the required libraries\n",
    "import pandas as pd"
   ]
  },
  {
   "cell_type": "code",
   "execution_count": 59,
   "metadata": {},
   "outputs": [],
   "source": [
    "## loading the dataset\n",
    "df = pd.read_excel('rawdata.xlsx')"
   ]
  },
  {
   "cell_type": "code",
   "execution_count": 60,
   "metadata": {},
   "outputs": [
    {
     "data": {
      "text/html": [
       "<div>\n",
       "<style scoped>\n",
       "    .dataframe tbody tr th:only-of-type {\n",
       "        vertical-align: middle;\n",
       "    }\n",
       "\n",
       "    .dataframe tbody tr th {\n",
       "        vertical-align: top;\n",
       "    }\n",
       "\n",
       "    .dataframe thead th {\n",
       "        text-align: right;\n",
       "    }\n",
       "</style>\n",
       "<table border=\"1\" class=\"dataframe\">\n",
       "  <thead>\n",
       "    <tr style=\"text-align: right;\">\n",
       "      <th></th>\n",
       "      <th>date</th>\n",
       "      <th>time</th>\n",
       "      <th>sensor</th>\n",
       "      <th>location</th>\n",
       "      <th>number</th>\n",
       "      <th>activity</th>\n",
       "      <th>position</th>\n",
       "      <th>location.1</th>\n",
       "    </tr>\n",
       "  </thead>\n",
       "  <tbody>\n",
       "    <tr>\n",
       "      <th>0</th>\n",
       "      <td>2024-01-16</td>\n",
       "      <td>10:10:30</td>\n",
       "      <td>0.0</td>\n",
       "      <td>A1</td>\n",
       "      <td>1</td>\n",
       "      <td>placed</td>\n",
       "      <td>inside</td>\n",
       "      <td>A1</td>\n",
       "    </tr>\n",
       "    <tr>\n",
       "      <th>1</th>\n",
       "      <td>2024-01-16</td>\n",
       "      <td>10:12:30</td>\n",
       "      <td>1.0</td>\n",
       "      <td>A2</td>\n",
       "      <td>1</td>\n",
       "      <td>picked</td>\n",
       "      <td>inside</td>\n",
       "      <td>A2</td>\n",
       "    </tr>\n",
       "    <tr>\n",
       "      <th>2</th>\n",
       "      <td>2024-01-16</td>\n",
       "      <td>10:28:30</td>\n",
       "      <td>1.0</td>\n",
       "      <td>A3</td>\n",
       "      <td>1</td>\n",
       "      <td>picked</td>\n",
       "      <td>Inside</td>\n",
       "      <td>A3</td>\n",
       "    </tr>\n",
       "    <tr>\n",
       "      <th>3</th>\n",
       "      <td>2024-01-16</td>\n",
       "      <td>10:38:20</td>\n",
       "      <td>0.0</td>\n",
       "      <td>A4</td>\n",
       "      <td>1</td>\n",
       "      <td>placed</td>\n",
       "      <td>Inside</td>\n",
       "      <td>A4</td>\n",
       "    </tr>\n",
       "    <tr>\n",
       "      <th>4</th>\n",
       "      <td>2024-01-16</td>\n",
       "      <td>10:45:20</td>\n",
       "      <td>1.0</td>\n",
       "      <td>A5</td>\n",
       "      <td>1</td>\n",
       "      <td>placed</td>\n",
       "      <td>inside</td>\n",
       "      <td>A5</td>\n",
       "    </tr>\n",
       "  </tbody>\n",
       "</table>\n",
       "</div>"
      ],
      "text/plain": [
       "        date      time  sensor location  number activity position location.1\n",
       "0 2024-01-16  10:10:30     0.0       A1       1   placed   inside         A1\n",
       "1 2024-01-16  10:12:30     1.0       A2       1   picked   inside         A2\n",
       "2 2024-01-16  10:28:30     1.0       A3       1   picked   Inside         A3\n",
       "3 2024-01-16  10:38:20     0.0       A4       1   placed   Inside         A4\n",
       "4 2024-01-16  10:45:20     1.0       A5       1   placed   inside         A5"
      ]
     },
     "execution_count": 60,
     "metadata": {},
     "output_type": "execute_result"
    }
   ],
   "source": [
    "## checking the first five row of data\n",
    "df.head()"
   ]
  },
  {
   "cell_type": "code",
   "execution_count": 98,
   "metadata": {},
   "outputs": [
    {
     "name": "stdout",
     "output_type": "stream",
     "text": [
      "Dataset shape: (174, 10)\n"
     ]
    }
   ],
   "source": [
    "print(f'Dataset shape: {df.shape}')"
   ]
  },
  {
   "cell_type": "code",
   "execution_count": 100,
   "metadata": {},
   "outputs": [
    {
     "name": "stdout",
     "output_type": "stream",
     "text": [
      "Dataset data Types : \n",
      "date          datetime64[ns]\n",
      "time                  object\n",
      "sensor               float64\n",
      "location              object\n",
      "number                 int64\n",
      "activity              object\n",
      "position              object\n",
      "location.1            object\n",
      "datetime      datetime64[ns]\n",
      "duration             float64\n",
      "dtype: object\n"
     ]
    }
   ],
   "source": [
    "print(f'Dataset data Types : \\n{df.dtypes}')"
   ]
  },
  {
   "cell_type": "code",
   "execution_count": 64,
   "metadata": {},
   "outputs": [
    {
     "data": {
      "text/plain": [
       "date          0\n",
       "time          0\n",
       "sensor        1\n",
       "location      0\n",
       "number        0\n",
       "activity      0\n",
       "position      0\n",
       "location.1    0\n",
       "dtype: int64"
      ]
     },
     "execution_count": 64,
     "metadata": {},
     "output_type": "execute_result"
    }
   ],
   "source": [
    "## checking the null value in the dataset\n",
    "df.isnull().sum()"
   ]
  },
  {
   "cell_type": "code",
   "execution_count": 65,
   "metadata": {},
   "outputs": [
    {
     "data": {
      "text/html": [
       "<div>\n",
       "<style scoped>\n",
       "    .dataframe tbody tr th:only-of-type {\n",
       "        vertical-align: middle;\n",
       "    }\n",
       "\n",
       "    .dataframe tbody tr th {\n",
       "        vertical-align: top;\n",
       "    }\n",
       "\n",
       "    .dataframe thead th {\n",
       "        text-align: right;\n",
       "    }\n",
       "</style>\n",
       "<table border=\"1\" class=\"dataframe\">\n",
       "  <thead>\n",
       "    <tr style=\"text-align: right;\">\n",
       "      <th></th>\n",
       "      <th>date</th>\n",
       "      <th>time</th>\n",
       "      <th>sensor</th>\n",
       "      <th>location</th>\n",
       "      <th>number</th>\n",
       "      <th>activity</th>\n",
       "      <th>position</th>\n",
       "      <th>location.1</th>\n",
       "    </tr>\n",
       "  </thead>\n",
       "  <tbody>\n",
       "    <tr>\n",
       "      <th>150</th>\n",
       "      <td>2024-01-18</td>\n",
       "      <td>19:10:00</td>\n",
       "      <td>NaN</td>\n",
       "      <td>A31</td>\n",
       "      <td>1</td>\n",
       "      <td>placed</td>\n",
       "      <td>Inside</td>\n",
       "      <td>A31</td>\n",
       "    </tr>\n",
       "  </tbody>\n",
       "</table>\n",
       "</div>"
      ],
      "text/plain": [
       "          date      time  sensor location  number activity position location.1\n",
       "150 2024-01-18  19:10:00     NaN      A31       1   placed   Inside        A31"
      ]
     },
     "execution_count": 65,
     "metadata": {},
     "output_type": "execute_result"
    }
   ],
   "source": [
    "## seeing the null vale column\n",
    "df[df['sensor'].isnull()]"
   ]
  },
  {
   "cell_type": "code",
   "execution_count": 66,
   "metadata": {},
   "outputs": [],
   "source": [
    "## Dropping the null value column\n",
    "df.dropna(axis=0, inplace=True)"
   ]
  },
  {
   "cell_type": "code",
   "execution_count": 69,
   "metadata": {},
   "outputs": [],
   "source": [
    "## sorting the dataset \n",
    "df = df.sort_values(by=['date','time'])"
   ]
  },
  {
   "cell_type": "code",
   "execution_count": 70,
   "metadata": {},
   "outputs": [
    {
     "data": {
      "text/html": [
       "<div>\n",
       "<style scoped>\n",
       "    .dataframe tbody tr th:only-of-type {\n",
       "        vertical-align: middle;\n",
       "    }\n",
       "\n",
       "    .dataframe tbody tr th {\n",
       "        vertical-align: top;\n",
       "    }\n",
       "\n",
       "    .dataframe thead th {\n",
       "        text-align: right;\n",
       "    }\n",
       "</style>\n",
       "<table border=\"1\" class=\"dataframe\">\n",
       "  <thead>\n",
       "    <tr style=\"text-align: right;\">\n",
       "      <th></th>\n",
       "      <th>date</th>\n",
       "      <th>time</th>\n",
       "      <th>sensor</th>\n",
       "      <th>location</th>\n",
       "      <th>number</th>\n",
       "      <th>activity</th>\n",
       "      <th>position</th>\n",
       "      <th>location.1</th>\n",
       "    </tr>\n",
       "  </thead>\n",
       "  <tbody>\n",
       "    <tr>\n",
       "      <th>16</th>\n",
       "      <td>2024-01-16</td>\n",
       "      <td>00:02:20</td>\n",
       "      <td>1.0</td>\n",
       "      <td>A17</td>\n",
       "      <td>1</td>\n",
       "      <td>placed</td>\n",
       "      <td>inside</td>\n",
       "      <td>A17</td>\n",
       "    </tr>\n",
       "    <tr>\n",
       "      <th>24</th>\n",
       "      <td>2024-01-16</td>\n",
       "      <td>00:02:20</td>\n",
       "      <td>0.0</td>\n",
       "      <td>A25</td>\n",
       "      <td>1</td>\n",
       "      <td>placed</td>\n",
       "      <td>inside</td>\n",
       "      <td>A25</td>\n",
       "    </tr>\n",
       "    <tr>\n",
       "      <th>18</th>\n",
       "      <td>2024-01-16</td>\n",
       "      <td>00:08:20</td>\n",
       "      <td>1.0</td>\n",
       "      <td>A19</td>\n",
       "      <td>1</td>\n",
       "      <td>picked</td>\n",
       "      <td>inside</td>\n",
       "      <td>A19</td>\n",
       "    </tr>\n",
       "    <tr>\n",
       "      <th>19</th>\n",
       "      <td>2024-01-16</td>\n",
       "      <td>00:10:20</td>\n",
       "      <td>0.0</td>\n",
       "      <td>A20</td>\n",
       "      <td>1</td>\n",
       "      <td>placed</td>\n",
       "      <td>inside</td>\n",
       "      <td>A20</td>\n",
       "    </tr>\n",
       "    <tr>\n",
       "      <th>20</th>\n",
       "      <td>2024-01-16</td>\n",
       "      <td>00:15:20</td>\n",
       "      <td>0.0</td>\n",
       "      <td>A21</td>\n",
       "      <td>1</td>\n",
       "      <td>placed</td>\n",
       "      <td>inside</td>\n",
       "      <td>A21</td>\n",
       "    </tr>\n",
       "  </tbody>\n",
       "</table>\n",
       "</div>"
      ],
      "text/plain": [
       "         date      time  sensor location  number activity position location.1\n",
       "16 2024-01-16  00:02:20     1.0      A17       1   placed   inside        A17\n",
       "24 2024-01-16  00:02:20     0.0      A25       1   placed   inside        A25\n",
       "18 2024-01-16  00:08:20     1.0      A19       1   picked   inside        A19\n",
       "19 2024-01-16  00:10:20     0.0      A20       1   placed   inside        A20\n",
       "20 2024-01-16  00:15:20     0.0      A21       1   placed   inside        A21"
      ]
     },
     "execution_count": 70,
     "metadata": {},
     "output_type": "execute_result"
    }
   ],
   "source": [
    "df.head()"
   ]
  },
  {
   "cell_type": "code",
   "execution_count": 72,
   "metadata": {},
   "outputs": [],
   "source": [
    "## creating the new column name: datetime  by merging the date and time column\n",
    "df['datetime'] = pd.to_datetime(df['date'].astype(str) + ' ' + df['time'].astype(str))"
   ]
  },
  {
   "cell_type": "code",
   "execution_count": 73,
   "metadata": {},
   "outputs": [
    {
     "data": {
      "text/plain": [
       "array(['inside', 'Inside', 'outside'], dtype=object)"
      ]
     },
     "execution_count": 73,
     "metadata": {},
     "output_type": "execute_result"
    }
   ],
   "source": [
    "## cheking the unique value in positin column\n",
    "df['position'].unique()"
   ]
  },
  {
   "cell_type": "code",
   "execution_count": 74,
   "metadata": {},
   "outputs": [],
   "source": [
    "## making the postion column data in lower case\n",
    "df['position'] = df['position'].str.lower()\n"
   ]
  },
  {
   "cell_type": "code",
   "execution_count": 76,
   "metadata": {},
   "outputs": [],
   "source": [
    "## creatinf the new column duration: groupby date and position and calculating the difference ad=nd then converting into minutes\n",
    "df['duration'] = df.groupby(['date', 'position'])['datetime'].diff().dt.total_seconds().div(60)\n"
   ]
  },
  {
   "cell_type": "code",
   "execution_count": 77,
   "metadata": {},
   "outputs": [
    {
     "data": {
      "text/html": [
       "<div>\n",
       "<style scoped>\n",
       "    .dataframe tbody tr th:only-of-type {\n",
       "        vertical-align: middle;\n",
       "    }\n",
       "\n",
       "    .dataframe tbody tr th {\n",
       "        vertical-align: top;\n",
       "    }\n",
       "\n",
       "    .dataframe thead th {\n",
       "        text-align: right;\n",
       "    }\n",
       "</style>\n",
       "<table border=\"1\" class=\"dataframe\">\n",
       "  <thead>\n",
       "    <tr style=\"text-align: right;\">\n",
       "      <th></th>\n",
       "      <th>date</th>\n",
       "      <th>time</th>\n",
       "      <th>sensor</th>\n",
       "      <th>location</th>\n",
       "      <th>number</th>\n",
       "      <th>activity</th>\n",
       "      <th>position</th>\n",
       "      <th>location.1</th>\n",
       "      <th>datetime</th>\n",
       "      <th>duration</th>\n",
       "    </tr>\n",
       "  </thead>\n",
       "  <tbody>\n",
       "    <tr>\n",
       "      <th>16</th>\n",
       "      <td>2024-01-16</td>\n",
       "      <td>00:02:20</td>\n",
       "      <td>1.0</td>\n",
       "      <td>A17</td>\n",
       "      <td>1</td>\n",
       "      <td>placed</td>\n",
       "      <td>inside</td>\n",
       "      <td>A17</td>\n",
       "      <td>2024-01-16 00:02:20</td>\n",
       "      <td>0.0</td>\n",
       "    </tr>\n",
       "    <tr>\n",
       "      <th>24</th>\n",
       "      <td>2024-01-16</td>\n",
       "      <td>00:02:20</td>\n",
       "      <td>0.0</td>\n",
       "      <td>A25</td>\n",
       "      <td>1</td>\n",
       "      <td>placed</td>\n",
       "      <td>inside</td>\n",
       "      <td>A25</td>\n",
       "      <td>2024-01-16 00:02:20</td>\n",
       "      <td>0.0</td>\n",
       "    </tr>\n",
       "    <tr>\n",
       "      <th>18</th>\n",
       "      <td>2024-01-16</td>\n",
       "      <td>00:08:20</td>\n",
       "      <td>1.0</td>\n",
       "      <td>A19</td>\n",
       "      <td>1</td>\n",
       "      <td>picked</td>\n",
       "      <td>inside</td>\n",
       "      <td>A19</td>\n",
       "      <td>2024-01-16 00:08:20</td>\n",
       "      <td>6.0</td>\n",
       "    </tr>\n",
       "    <tr>\n",
       "      <th>19</th>\n",
       "      <td>2024-01-16</td>\n",
       "      <td>00:10:20</td>\n",
       "      <td>0.0</td>\n",
       "      <td>A20</td>\n",
       "      <td>1</td>\n",
       "      <td>placed</td>\n",
       "      <td>inside</td>\n",
       "      <td>A20</td>\n",
       "      <td>2024-01-16 00:10:20</td>\n",
       "      <td>2.0</td>\n",
       "    </tr>\n",
       "    <tr>\n",
       "      <th>20</th>\n",
       "      <td>2024-01-16</td>\n",
       "      <td>00:15:20</td>\n",
       "      <td>0.0</td>\n",
       "      <td>A21</td>\n",
       "      <td>1</td>\n",
       "      <td>placed</td>\n",
       "      <td>inside</td>\n",
       "      <td>A21</td>\n",
       "      <td>2024-01-16 00:15:20</td>\n",
       "      <td>5.0</td>\n",
       "    </tr>\n",
       "  </tbody>\n",
       "</table>\n",
       "</div>"
      ],
      "text/plain": [
       "         date      time  sensor location  number activity position location.1  \\\n",
       "16 2024-01-16  00:02:20     1.0      A17       1   placed   inside        A17   \n",
       "24 2024-01-16  00:02:20     0.0      A25       1   placed   inside        A25   \n",
       "18 2024-01-16  00:08:20     1.0      A19       1   picked   inside        A19   \n",
       "19 2024-01-16  00:10:20     0.0      A20       1   placed   inside        A20   \n",
       "20 2024-01-16  00:15:20     0.0      A21       1   placed   inside        A21   \n",
       "\n",
       "              datetime  duration  \n",
       "16 2024-01-16 00:02:20       0.0  \n",
       "24 2024-01-16 00:02:20       0.0  \n",
       "18 2024-01-16 00:08:20       6.0  \n",
       "19 2024-01-16 00:10:20       2.0  \n",
       "20 2024-01-16 00:15:20       5.0  "
      ]
     },
     "execution_count": 77,
     "metadata": {},
     "output_type": "execute_result"
    }
   ],
   "source": [
    "df.head()"
   ]
  },
  {
   "cell_type": "code",
   "execution_count": 78,
   "metadata": {},
   "outputs": [],
   "source": [
    "## separating the inisde data and outise data\n",
    "inside_data = df[df['position'] == 'inside']\n",
    "outside_data = df[df['position'] == 'outside']"
   ]
  },
  {
   "cell_type": "code",
   "execution_count": 79,
   "metadata": {},
   "outputs": [],
   "source": [
    "## calculating the total inside duration datewise\n",
    "inside_duration = inside_data.groupby('date')['duration'].sum().reset_index()\n",
    "inside_duration.columns = ['date', 'total_inside_duration']"
   ]
  },
  {
   "cell_type": "code",
   "execution_count": 80,
   "metadata": {},
   "outputs": [
    {
     "data": {
      "text/html": [
       "<div>\n",
       "<style scoped>\n",
       "    .dataframe tbody tr th:only-of-type {\n",
       "        vertical-align: middle;\n",
       "    }\n",
       "\n",
       "    .dataframe tbody tr th {\n",
       "        vertical-align: top;\n",
       "    }\n",
       "\n",
       "    .dataframe thead th {\n",
       "        text-align: right;\n",
       "    }\n",
       "</style>\n",
       "<table border=\"1\" class=\"dataframe\">\n",
       "  <thead>\n",
       "    <tr style=\"text-align: right;\">\n",
       "      <th></th>\n",
       "      <th>date</th>\n",
       "      <th>total_inside_duration</th>\n",
       "    </tr>\n",
       "  </thead>\n",
       "  <tbody>\n",
       "    <tr>\n",
       "      <th>0</th>\n",
       "      <td>2024-01-16</td>\n",
       "      <td>717.000000</td>\n",
       "    </tr>\n",
       "    <tr>\n",
       "      <th>1</th>\n",
       "      <td>2024-01-17</td>\n",
       "      <td>190.833333</td>\n",
       "    </tr>\n",
       "    <tr>\n",
       "      <th>2</th>\n",
       "      <td>2024-01-18</td>\n",
       "      <td>559.833333</td>\n",
       "    </tr>\n",
       "  </tbody>\n",
       "</table>\n",
       "</div>"
      ],
      "text/plain": [
       "        date  total_inside_duration\n",
       "0 2024-01-16             717.000000\n",
       "1 2024-01-17             190.833333\n",
       "2 2024-01-18             559.833333"
      ]
     },
     "execution_count": 80,
     "metadata": {},
     "output_type": "execute_result"
    }
   ],
   "source": [
    "inside_duration.head()"
   ]
  },
  {
   "cell_type": "code",
   "execution_count": 81,
   "metadata": {},
   "outputs": [],
   "source": [
    "## calculating the total outside duration datewise\n",
    "outside_duration = outside_data.groupby('date')['duration'].sum().reset_index()\n",
    "outside_duration.columns = ['date', 'total_outside_duration']\n"
   ]
  },
  {
   "cell_type": "code",
   "execution_count": 82,
   "metadata": {},
   "outputs": [
    {
     "data": {
      "text/html": [
       "<div>\n",
       "<style scoped>\n",
       "    .dataframe tbody tr th:only-of-type {\n",
       "        vertical-align: middle;\n",
       "    }\n",
       "\n",
       "    .dataframe tbody tr th {\n",
       "        vertical-align: top;\n",
       "    }\n",
       "\n",
       "    .dataframe thead th {\n",
       "        text-align: right;\n",
       "    }\n",
       "</style>\n",
       "<table border=\"1\" class=\"dataframe\">\n",
       "  <thead>\n",
       "    <tr style=\"text-align: right;\">\n",
       "      <th></th>\n",
       "      <th>date</th>\n",
       "      <th>total_outside_duration</th>\n",
       "    </tr>\n",
       "  </thead>\n",
       "  <tbody>\n",
       "    <tr>\n",
       "      <th>0</th>\n",
       "      <td>2024-01-18</td>\n",
       "      <td>357.833333</td>\n",
       "    </tr>\n",
       "  </tbody>\n",
       "</table>\n",
       "</div>"
      ],
      "text/plain": [
       "        date  total_outside_duration\n",
       "0 2024-01-18              357.833333"
      ]
     },
     "execution_count": 82,
     "metadata": {},
     "output_type": "execute_result"
    }
   ],
   "source": [
    "outside_duration.head()"
   ]
  },
  {
   "cell_type": "code",
   "execution_count": 83,
   "metadata": {},
   "outputs": [],
   "source": [
    "## merging the inside and outside duration\n",
    "total_duration = pd.merge(inside_duration, outside_duration, on='date', how='outer')\n"
   ]
  },
  {
   "cell_type": "code",
   "execution_count": 84,
   "metadata": {},
   "outputs": [
    {
     "data": {
      "text/html": [
       "<div>\n",
       "<style scoped>\n",
       "    .dataframe tbody tr th:only-of-type {\n",
       "        vertical-align: middle;\n",
       "    }\n",
       "\n",
       "    .dataframe tbody tr th {\n",
       "        vertical-align: top;\n",
       "    }\n",
       "\n",
       "    .dataframe thead th {\n",
       "        text-align: right;\n",
       "    }\n",
       "</style>\n",
       "<table border=\"1\" class=\"dataframe\">\n",
       "  <thead>\n",
       "    <tr style=\"text-align: right;\">\n",
       "      <th></th>\n",
       "      <th>date</th>\n",
       "      <th>total_inside_duration</th>\n",
       "      <th>total_outside_duration</th>\n",
       "    </tr>\n",
       "  </thead>\n",
       "  <tbody>\n",
       "    <tr>\n",
       "      <th>0</th>\n",
       "      <td>2024-01-16</td>\n",
       "      <td>717.000000</td>\n",
       "      <td>0.000000</td>\n",
       "    </tr>\n",
       "    <tr>\n",
       "      <th>1</th>\n",
       "      <td>2024-01-17</td>\n",
       "      <td>190.833333</td>\n",
       "      <td>0.000000</td>\n",
       "    </tr>\n",
       "    <tr>\n",
       "      <th>2</th>\n",
       "      <td>2024-01-18</td>\n",
       "      <td>559.833333</td>\n",
       "      <td>357.833333</td>\n",
       "    </tr>\n",
       "  </tbody>\n",
       "</table>\n",
       "</div>"
      ],
      "text/plain": [
       "        date  total_inside_duration  total_outside_duration\n",
       "0 2024-01-16             717.000000                0.000000\n",
       "1 2024-01-17             190.833333                0.000000\n",
       "2 2024-01-18             559.833333              357.833333"
      ]
     },
     "execution_count": 84,
     "metadata": {},
     "output_type": "execute_result"
    }
   ],
   "source": [
    "total_duration"
   ]
  },
  {
   "cell_type": "code",
   "execution_count": 85,
   "metadata": {},
   "outputs": [
    {
     "data": {
      "text/plain": [
       "array(['placed', 'picked'], dtype=object)"
      ]
     },
     "execution_count": 85,
     "metadata": {},
     "output_type": "execute_result"
    }
   ],
   "source": [
    "## for checking the unique value in the activity column\n",
    "df['activity'].unique()"
   ]
  },
  {
   "cell_type": "code",
   "execution_count": 86,
   "metadata": {},
   "outputs": [],
   "source": [
    "## calculating the total picking and placing count\n",
    "picking_count = df[df['activity'] == 'picked'].groupby('date').size().reset_index(name='picking_count')\n",
    "placing_count = df[df['activity'] == 'placed'].groupby('date').size().reset_index(name='placing_count')\n"
   ]
  },
  {
   "cell_type": "code",
   "execution_count": 88,
   "metadata": {},
   "outputs": [
    {
     "data": {
      "text/plain": [
       "(        date  picking_count\n",
       " 0 2024-01-16             40\n",
       " 1 2024-01-17             10\n",
       " 2 2024-01-18             37,\n",
       "         date  placing_count\n",
       " 0 2024-01-16             40\n",
       " 1 2024-01-17              9\n",
       " 2 2024-01-18             38)"
      ]
     },
     "execution_count": 88,
     "metadata": {},
     "output_type": "execute_result"
    }
   ],
   "source": [
    "picking_count, placing_count"
   ]
  },
  {
   "cell_type": "code",
   "execution_count": 89,
   "metadata": {},
   "outputs": [],
   "source": [
    "## merging the picking and placing count\n",
    "activity_counts = pd.merge(picking_count, placing_count, on='date', how='outer')"
   ]
  },
  {
   "cell_type": "code",
   "execution_count": 90,
   "metadata": {},
   "outputs": [
    {
     "data": {
      "text/html": [
       "<div>\n",
       "<style scoped>\n",
       "    .dataframe tbody tr th:only-of-type {\n",
       "        vertical-align: middle;\n",
       "    }\n",
       "\n",
       "    .dataframe tbody tr th {\n",
       "        vertical-align: top;\n",
       "    }\n",
       "\n",
       "    .dataframe thead th {\n",
       "        text-align: right;\n",
       "    }\n",
       "</style>\n",
       "<table border=\"1\" class=\"dataframe\">\n",
       "  <thead>\n",
       "    <tr style=\"text-align: right;\">\n",
       "      <th></th>\n",
       "      <th>date</th>\n",
       "      <th>picking_count</th>\n",
       "      <th>placing_count</th>\n",
       "    </tr>\n",
       "  </thead>\n",
       "  <tbody>\n",
       "    <tr>\n",
       "      <th>0</th>\n",
       "      <td>2024-01-16</td>\n",
       "      <td>40</td>\n",
       "      <td>40</td>\n",
       "    </tr>\n",
       "    <tr>\n",
       "      <th>1</th>\n",
       "      <td>2024-01-17</td>\n",
       "      <td>10</td>\n",
       "      <td>9</td>\n",
       "    </tr>\n",
       "    <tr>\n",
       "      <th>2</th>\n",
       "      <td>2024-01-18</td>\n",
       "      <td>37</td>\n",
       "      <td>38</td>\n",
       "    </tr>\n",
       "  </tbody>\n",
       "</table>\n",
       "</div>"
      ],
      "text/plain": [
       "        date  picking_count  placing_count\n",
       "0 2024-01-16             40             40\n",
       "1 2024-01-17             10              9\n",
       "2 2024-01-18             37             38"
      ]
     },
     "execution_count": 90,
     "metadata": {},
     "output_type": "execute_result"
    }
   ],
   "source": [
    "activity_counts"
   ]
  },
  {
   "cell_type": "code",
   "execution_count": 91,
   "metadata": {},
   "outputs": [],
   "source": [
    "# Merge total duration and activity counts\n",
    "final_output = pd.merge(total_duration, activity_counts, on='date', how='outer')"
   ]
  },
  {
   "cell_type": "code",
   "execution_count": 92,
   "metadata": {},
   "outputs": [
    {
     "data": {
      "text/html": [
       "<div>\n",
       "<style scoped>\n",
       "    .dataframe tbody tr th:only-of-type {\n",
       "        vertical-align: middle;\n",
       "    }\n",
       "\n",
       "    .dataframe tbody tr th {\n",
       "        vertical-align: top;\n",
       "    }\n",
       "\n",
       "    .dataframe thead th {\n",
       "        text-align: right;\n",
       "    }\n",
       "</style>\n",
       "<table border=\"1\" class=\"dataframe\">\n",
       "  <thead>\n",
       "    <tr style=\"text-align: right;\">\n",
       "      <th></th>\n",
       "      <th>date</th>\n",
       "      <th>total_inside_duration</th>\n",
       "      <th>total_outside_duration</th>\n",
       "      <th>picking_count</th>\n",
       "      <th>placing_count</th>\n",
       "    </tr>\n",
       "  </thead>\n",
       "  <tbody>\n",
       "    <tr>\n",
       "      <th>0</th>\n",
       "      <td>2024-01-16</td>\n",
       "      <td>717.000000</td>\n",
       "      <td>0.000000</td>\n",
       "      <td>40</td>\n",
       "      <td>40</td>\n",
       "    </tr>\n",
       "    <tr>\n",
       "      <th>1</th>\n",
       "      <td>2024-01-17</td>\n",
       "      <td>190.833333</td>\n",
       "      <td>0.000000</td>\n",
       "      <td>10</td>\n",
       "      <td>9</td>\n",
       "    </tr>\n",
       "    <tr>\n",
       "      <th>2</th>\n",
       "      <td>2024-01-18</td>\n",
       "      <td>559.833333</td>\n",
       "      <td>357.833333</td>\n",
       "      <td>37</td>\n",
       "      <td>38</td>\n",
       "    </tr>\n",
       "  </tbody>\n",
       "</table>\n",
       "</div>"
      ],
      "text/plain": [
       "        date  total_inside_duration  total_outside_duration  picking_count  \\\n",
       "0 2024-01-16             717.000000                0.000000             40   \n",
       "1 2024-01-17             190.833333                0.000000             10   \n",
       "2 2024-01-18             559.833333              357.833333             37   \n",
       "\n",
       "   placing_count  \n",
       "0             40  \n",
       "1              9  \n",
       "2             38  "
      ]
     },
     "execution_count": 92,
     "metadata": {},
     "output_type": "execute_result"
    }
   ],
   "source": [
    "final_output"
   ]
  },
  {
   "cell_type": "code",
   "execution_count": 93,
   "metadata": {},
   "outputs": [],
   "source": [
    "# Convert date column back to string for output consistency\n",
    "final_output['date'] = final_output['date'].astype(str)"
   ]
  },
  {
   "cell_type": "code",
   "execution_count": 94,
   "metadata": {},
   "outputs": [
    {
     "data": {
      "text/html": [
       "<div>\n",
       "<style scoped>\n",
       "    .dataframe tbody tr th:only-of-type {\n",
       "        vertical-align: middle;\n",
       "    }\n",
       "\n",
       "    .dataframe tbody tr th {\n",
       "        vertical-align: top;\n",
       "    }\n",
       "\n",
       "    .dataframe thead th {\n",
       "        text-align: right;\n",
       "    }\n",
       "</style>\n",
       "<table border=\"1\" class=\"dataframe\">\n",
       "  <thead>\n",
       "    <tr style=\"text-align: right;\">\n",
       "      <th></th>\n",
       "      <th>date</th>\n",
       "      <th>total_inside_duration</th>\n",
       "      <th>total_outside_duration</th>\n",
       "      <th>picking_count</th>\n",
       "      <th>placing_count</th>\n",
       "    </tr>\n",
       "  </thead>\n",
       "  <tbody>\n",
       "    <tr>\n",
       "      <th>0</th>\n",
       "      <td>2024-01-16</td>\n",
       "      <td>717.000000</td>\n",
       "      <td>0.000000</td>\n",
       "      <td>40</td>\n",
       "      <td>40</td>\n",
       "    </tr>\n",
       "    <tr>\n",
       "      <th>1</th>\n",
       "      <td>2024-01-17</td>\n",
       "      <td>190.833333</td>\n",
       "      <td>0.000000</td>\n",
       "      <td>10</td>\n",
       "      <td>9</td>\n",
       "    </tr>\n",
       "    <tr>\n",
       "      <th>2</th>\n",
       "      <td>2024-01-18</td>\n",
       "      <td>559.833333</td>\n",
       "      <td>357.833333</td>\n",
       "      <td>37</td>\n",
       "      <td>38</td>\n",
       "    </tr>\n",
       "  </tbody>\n",
       "</table>\n",
       "</div>"
      ],
      "text/plain": [
       "         date  total_inside_duration  total_outside_duration  picking_count  \\\n",
       "0  2024-01-16             717.000000                0.000000             40   \n",
       "1  2024-01-17             190.833333                0.000000             10   \n",
       "2  2024-01-18             559.833333              357.833333             37   \n",
       "\n",
       "   placing_count  \n",
       "0             40  \n",
       "1              9  \n",
       "2             38  "
      ]
     },
     "execution_count": 94,
     "metadata": {},
     "output_type": "execute_result"
    }
   ],
   "source": [
    "final_output"
   ]
  },
  {
   "cell_type": "code",
   "execution_count": 97,
   "metadata": {},
   "outputs": [],
   "source": [
    "## saving the output file\n",
    "final_output.to_excel('final_output.xlsx', index=False)"
   ]
  },
  {
   "cell_type": "code",
   "execution_count": null,
   "metadata": {},
   "outputs": [],
   "source": []
  }
 ],
 "metadata": {
  "kernelspec": {
   "display_name": "Python 3",
   "language": "python",
   "name": "python3"
  },
  "language_info": {
   "codemirror_mode": {
    "name": "ipython",
    "version": 3
   },
   "file_extension": ".py",
   "mimetype": "text/x-python",
   "name": "python",
   "nbconvert_exporter": "python",
   "pygments_lexer": "ipython3",
   "version": "3.12.3"
  }
 },
 "nbformat": 4,
 "nbformat_minor": 2
}
